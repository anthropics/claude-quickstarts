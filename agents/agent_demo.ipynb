{
 "cells": [
  {
   "cell_type": "markdown",
   "metadata": {},
   "source": [
    "# Agent Demo with Simplified Connection Management\n",
    "\n",
    "This notebook demonstrates an agent using multiple tool types with simplified connection management:\n",
    "1. **Local Calculator**: Mathematical expressions via MCP\n",
    "2. **Brave Search**: Web search via MCP (if API key available)\n",
    "3. **Think Tool**: Internal reasoning tool"
   ]
  },
  {
   "cell_type": "code",
   "execution_count": null,
   "metadata": {},
   "outputs": [],
   "source": [
    "import os\n",
    "import sys\n",
    "import nest_asyncio\n",
    "nest_asyncio.apply()\n",
    "\n",
    "parent_dir = os.path.dirname(os.getcwd())\n",
    "sys.path.insert(0, parent_dir)\n",
    "from agents.agent import Agent, ModelConfig\n",
    "from agents.tools.think import ThinkTool\n",
    "from agents.tools.web_search import WebSearchServerTool\n",
    "from agents.tools.code_execution import CodeExecutionServerTool"
   ]
  },
  {
   "cell_type": "markdown",
   "metadata": {},
   "source": [
    "# 1. Configure tools and MCP servers"
   ]
  },
  {
   "cell_type": "code",
   "execution_count": null,
   "metadata": {},
   "outputs": [],
   "source": [
    "# Standard Python tool\n",
    "think_tool = ThinkTool()\n",
    "\n",
    "# Python MCP server\n",
    "calculator_server_path = os.path.abspath(os.path.join(os.getcwd(), \"tools/calculator_mcp.py\"))\n",
    "calculator_server = {\n",
    "    \"type\": \"stdio\",\n",
    "    \"command\": \"python\",\n",
    "    \"args\": [calculator_server_path]\n",
    "}\n",
    "print(f\"Calculator server configured: {'Yes' if calculator_server else 'No'}\")\n",
    "\n",
    "\n",
    "# Brave MCP server written in TypeScript\n",
    "\n",
    "brave_api_key = os.environ.get(\"BRAVE_API_KEY_BASE_DATA\", \"\")\n",
    "print(f\"Brave API key available: {'Yes' if brave_api_key else 'No'}\")\n",
    "brave_search_server = {\n",
    "    \"type\": \"stdio\",\n",
    "    \"command\": \"npx\",\n",
    "    \"args\": [\"-y\", \"@modelcontextprotocol/server-brave-search\"],\n",
    "    \"env\": {\n",
    "        \"BRAVE_API_KEY\": brave_api_key, \n",
    "        \"PATH\": f\"{os.path.dirname('npx')}:\" + os.environ.get(\"PATH\", \"\")\n",
    "    }\n",
    "}\n",
    "print(f\"Brave search server configured: {'Yes' if brave_search_server else 'No'}\")"
   ]
  },
  {
   "cell_type": "markdown",
   "metadata": {},
   "source": [
    "# 2. Initialize agent with combined tools"
   ]
  },
  {
   "cell_type": "code",
   "execution_count": null,
   "metadata": {},
   "outputs": [],
   "source": [
    "# Create agent config \n",
    "system_prompt = \"\"\"\n",
    "You are a helpful assistant with access to:\n",
    "1. Web search (brave_web_search, brave_local_search)\n",
    "2. Mathematical calculator (calculate) \n",
    "3. A tool to think and reason (think)\n",
    "\n",
    "Always use the most appropriate tool for each task.\n",
    "\"\"\"\n",
    "\n",
    "\n",
    "# Initialize agent with standard tools and MCP servers\n",
    "agent = Agent(\n",
    "    name=\"Multi-Tool Agent\",\n",
    "    system=system_prompt,\n",
    "    tools=[think_tool], \n",
    "    mcp_servers=[brave_search_server, calculator_server], \n",
    "    config=ModelConfig(\n",
    "        model=\"claude-3-7-sonnet-20250219\", \n",
    "        max_tokens=4096,\n",
    "        temperature=1.0\n",
    "    ),\n",
    "    verbose=True\n",
    ")"
   ]
  },
  {
   "cell_type": "markdown",
   "metadata": {},
   "source": [
    "# 3. Run queries"
   ]
  },
  {
   "cell_type": "code",
   "execution_count": null,
   "metadata": {},
   "outputs": [],
   "source": [
    "# Example query\n",
    "agent.run(\"What's the square root of the OKC population in 2022\")"
   ]
  },
  {
   "cell_type": "code",
   "execution_count": null,
   "metadata": {},
   "outputs": [],
   "source": [
    "await agent.run_async(\"How many bananas will fit in an Toyota GR86?\")"
   ]
  },
  {
   "cell_type": "markdown",
   "metadata": {},
   "source": [
    "# 4. Example with Anthropic Server Tools\n",
    "\n",
    "This example demonstrates using Anthropic's native server tools for web search and code execution."
   ]
  },
  {
   "cell_type": "code",
   "execution_count": null,
   "metadata": {},
   "outputs": [],
   "source": [
    "# Create Anthropic server tools\n",
    "web_search_tool = WebSearchServerTool(\n",
    "    name=\"web_search\",\n",
    "    max_uses=5,  # Limit to 5 searches per request\n",
    "    blocked_domains=[\"example.com\"]  # Example of blocking specific domains\n",
    ")\n",
    "\n",
    "code_execution_tool = CodeExecutionServerTool()\n",
    "\n",
    "# Initialize agent with server tools\n",
    "server_agent = Agent(\n",
    "    name=\"Server Tools Agent\",\n",
    "    system=\"\"\"\n",
    "You are a helpful assistant with access to:\n",
    "1. Web search for finding current information\n",
    "2. Code execution for running Python code\n",
    "3. Think tool for complex reasoning\n",
    "\n",
    "Use these tools effectively to answer questions that require current data or calculations.\n",
    "\"\"\",\n",
    "    tools=[think_tool, web_search_tool, code_execution_tool],\n",
    "    config=ModelConfig(\n",
    "        model=\"claude-3-7-sonnet-20250219\",\n",
    "        max_tokens=4096,\n",
    "        temperature=0.7\n",
    "    ),\n",
    "    verbose=True\n",
    ")"
   ]
  },
  {
   "cell_type": "code",
   "execution_count": null,
   "metadata": {},
   "outputs": [],
   "source": [
    "# Example 1: Use web search to find current information and code execution for analysis\n",
    "server_agent.run(\"\"\"\n",
    "Search for the current population of Tokyo, Japan. \n",
    "Then write and execute Python code to calculate how many people that would be per square kilometer, \n",
    "given that Tokyo's area is approximately 2,194 square kilometers.\n",
    "\"\"\")"
   ]
  },
  {
   "cell_type": "code",
   "execution_count": null,
   "metadata": {},
   "outputs": [],
   "source": [
    "# Example 2: Combine web search with code execution for data analysis\n",
    "await server_agent.run_async(\"\"\"\n",
    "Search for the current stock price of Apple (AAPL). \n",
    "Then use code execution to calculate what a $10,000 investment would be worth \n",
    "if the stock increases by 15% over the next year.\n",
    "\"\"\")"
   ]
  }
 ],
 "metadata": {
  "kernelspec": {
   "display_name": "Python 3 (ipykernel)",
   "language": "python",
   "name": "python3"
  },
  "language_info": {
   "codemirror_mode": {
    "name": "ipython",
    "version": 3
   },
   "file_extension": ".py",
   "mimetype": "text/x-python",
   "name": "python",
   "nbconvert_exporter": "python",
   "pygments_lexer": "ipython3",
   "version": "3.11.13"
  }
 },
 "nbformat": 4,
 "nbformat_minor": 4
}
